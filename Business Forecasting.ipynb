{
 "cells": [
  {
   "cell_type": "code",
   "execution_count": 1,
   "metadata": {},
   "outputs": [],
   "source": [
    "import numpy as np\n",
    "import pandas as pd\n",
    "import seaborn as sns\n",
    "import matplotlib.pyplot as plt\n",
    "import warnings\n",
    "warnings.filterwarnings('ignore')\n",
    "import os"
   ]
  },
  {
   "cell_type": "code",
   "execution_count": 2,
   "metadata": {},
   "outputs": [],
   "source": [
    "train=pd.read_csv('./train_fwYjLYX.csv')\n",
    "test=pd.read_csv('./test_1eLl9Yf.csv')"
   ]
  },
  {
   "cell_type": "code",
   "execution_count": 3,
   "metadata": {},
   "outputs": [
    {
     "data": {
      "text/html": [
       "<div>\n",
       "<style scoped>\n",
       "    .dataframe tbody tr th:only-of-type {\n",
       "        vertical-align: middle;\n",
       "    }\n",
       "\n",
       "    .dataframe tbody tr th {\n",
       "        vertical-align: top;\n",
       "    }\n",
       "\n",
       "    .dataframe thead th {\n",
       "        text-align: right;\n",
       "    }\n",
       "</style>\n",
       "<table border=\"1\" class=\"dataframe\">\n",
       "  <thead>\n",
       "    <tr style=\"text-align: right;\">\n",
       "      <th></th>\n",
       "      <th>application_date</th>\n",
       "      <th>segment</th>\n",
       "      <th>branch_id</th>\n",
       "      <th>state</th>\n",
       "      <th>zone</th>\n",
       "      <th>case_count</th>\n",
       "    </tr>\n",
       "  </thead>\n",
       "  <tbody>\n",
       "    <tr>\n",
       "      <td>0</td>\n",
       "      <td>2017-04-01</td>\n",
       "      <td>1</td>\n",
       "      <td>1.0</td>\n",
       "      <td>WEST BENGAL</td>\n",
       "      <td>EAST</td>\n",
       "      <td>40.0</td>\n",
       "    </tr>\n",
       "    <tr>\n",
       "      <td>1</td>\n",
       "      <td>2017-04-03</td>\n",
       "      <td>1</td>\n",
       "      <td>1.0</td>\n",
       "      <td>WEST BENGAL</td>\n",
       "      <td>EAST</td>\n",
       "      <td>5.0</td>\n",
       "    </tr>\n",
       "    <tr>\n",
       "      <td>2</td>\n",
       "      <td>2017-04-04</td>\n",
       "      <td>1</td>\n",
       "      <td>1.0</td>\n",
       "      <td>WEST BENGAL</td>\n",
       "      <td>EAST</td>\n",
       "      <td>4.0</td>\n",
       "    </tr>\n",
       "    <tr>\n",
       "      <td>3</td>\n",
       "      <td>2017-04-05</td>\n",
       "      <td>1</td>\n",
       "      <td>1.0</td>\n",
       "      <td>WEST BENGAL</td>\n",
       "      <td>EAST</td>\n",
       "      <td>113.0</td>\n",
       "    </tr>\n",
       "    <tr>\n",
       "      <td>4</td>\n",
       "      <td>2017-04-07</td>\n",
       "      <td>1</td>\n",
       "      <td>1.0</td>\n",
       "      <td>WEST BENGAL</td>\n",
       "      <td>EAST</td>\n",
       "      <td>76.0</td>\n",
       "    </tr>\n",
       "  </tbody>\n",
       "</table>\n",
       "</div>"
      ],
      "text/plain": [
       "  application_date  segment  branch_id        state  zone  case_count\n",
       "0       2017-04-01        1        1.0  WEST BENGAL  EAST        40.0\n",
       "1       2017-04-03        1        1.0  WEST BENGAL  EAST         5.0\n",
       "2       2017-04-04        1        1.0  WEST BENGAL  EAST         4.0\n",
       "3       2017-04-05        1        1.0  WEST BENGAL  EAST       113.0\n",
       "4       2017-04-07        1        1.0  WEST BENGAL  EAST        76.0"
      ]
     },
     "execution_count": 3,
     "metadata": {},
     "output_type": "execute_result"
    }
   ],
   "source": [
    "train.head()"
   ]
  },
  {
   "cell_type": "code",
   "execution_count": 4,
   "metadata": {},
   "outputs": [
    {
     "data": {
      "text/plain": [
       "{datetime.date(2017, 1, 14): 'Makar Sankranti / Pongal',\n",
       " datetime.date(2017, 1, 26): 'Republic Day',\n",
       " datetime.date(2017, 8, 15): 'Independence Day',\n",
       " datetime.date(2017, 10, 2): 'Gandhi Jayanti',\n",
       " datetime.date(2017, 5, 1): 'Labour Day',\n",
       " datetime.date(2017, 12, 25): 'Christmas',\n",
       " datetime.date(2018, 1, 14): 'Makar Sankranti / Pongal',\n",
       " datetime.date(2018, 1, 26): 'Republic Day',\n",
       " datetime.date(2018, 8, 15): 'Independence Day',\n",
       " datetime.date(2018, 10, 2): 'Gandhi Jayanti',\n",
       " datetime.date(2018, 5, 1): 'Labour Day',\n",
       " datetime.date(2018, 12, 25): 'Christmas',\n",
       " datetime.date(2019, 1, 14): 'Makar Sankranti / Pongal',\n",
       " datetime.date(2019, 1, 26): 'Republic Day',\n",
       " datetime.date(2019, 8, 15): 'Independence Day',\n",
       " datetime.date(2019, 10, 2): 'Gandhi Jayanti',\n",
       " datetime.date(2019, 5, 1): 'Labour Day',\n",
       " datetime.date(2019, 12, 25): 'Christmas'}"
      ]
     },
     "execution_count": 4,
     "metadata": {},
     "output_type": "execute_result"
    }
   ],
   "source": [
    "import holidays\n",
    "from datetime import date\n",
    "ind_holiday= holidays.IND(years=[2017,2018,2019])\n",
    "ind_holiday"
   ]
  },
  {
   "cell_type": "code",
   "execution_count": 5,
   "metadata": {
    "scrolled": true
   },
   "outputs": [
    {
     "name": "stdout",
     "output_type": "stream",
     "text": [
      "2017-01-14 Makar Sankranti / Pongal\n",
      "2017-01-26 Republic Day\n",
      "2017-05-01 Labour Day\n",
      "2017-08-15 Independence Day\n",
      "2017-10-02 Gandhi Jayanti\n",
      "2017-12-25 Christmas\n",
      "2018-01-14 Makar Sankranti / Pongal\n",
      "2018-01-26 Republic Day\n",
      "2018-05-01 Labour Day\n",
      "2018-08-15 Independence Day\n",
      "2018-10-02 Gandhi Jayanti\n",
      "2018-12-25 Christmas\n",
      "2019-01-14 Makar Sankranti / Pongal\n",
      "2019-01-26 Republic Day\n",
      "2019-05-01 Labour Day\n",
      "2019-08-15 Independence Day\n",
      "2019-10-02 Gandhi Jayanti\n",
      "2019-12-25 Christmas\n"
     ]
    },
    {
     "data": {
      "text/plain": [
       "['2017-02-24',\n",
       " '2017-03-13',\n",
       " '2017-03-28',\n",
       " '2017-04-05',\n",
       " '2017-04-09',\n",
       " '2017-04-14',\n",
       " '2017-05-10',\n",
       " '2017-06-25',\n",
       " '2017-06-26',\n",
       " '2017-08-07',\n",
       " '2017-09-30',\n",
       " '2017-10-02',\n",
       " '2017-10-19',\n",
       " '2018-02-24',\n",
       " '2018-03-13',\n",
       " '2018-03-28',\n",
       " '2018-04-05',\n",
       " '2018-04-09',\n",
       " '2018-04-14',\n",
       " '2018-05-10',\n",
       " '2018-06-25',\n",
       " '2018-06-26',\n",
       " '2018-08-07',\n",
       " '2018-09-30',\n",
       " '2018-10-02',\n",
       " '2018-10-19',\n",
       " '2019-02-24',\n",
       " '2019-03-13',\n",
       " '2019-03-28',\n",
       " '2019-04-05',\n",
       " '2019-04-09',\n",
       " '2019-04-14',\n",
       " '2019-05-10',\n",
       " '2019-06-25',\n",
       " '2019-06-26',\n",
       " '2019-08-07',\n",
       " '2019-09-30',\n",
       " '2019-10-02',\n",
       " '2019-10-19',\n",
       " '2017-01-14',\n",
       " '2017-01-26',\n",
       " '2017-05-01',\n",
       " '2017-08-15',\n",
       " '2017-10-02',\n",
       " '2017-12-25',\n",
       " '2018-01-14',\n",
       " '2018-01-26',\n",
       " '2018-05-01',\n",
       " '2018-08-15',\n",
       " '2018-10-02',\n",
       " '2018-12-25',\n",
       " '2019-01-14',\n",
       " '2019-01-26',\n",
       " '2019-05-01',\n",
       " '2019-08-15',\n",
       " '2019-10-02',\n",
       " '2019-12-25']"
      ]
     },
     "execution_count": 5,
     "metadata": {},
     "output_type": "execute_result"
    }
   ],
   "source": [
    "hol=['2017-02-24','2017-03-13','2017-03-28','2017-04-05','2017-04-09','2017-04-14','2017-05-10','2017-06-25'\n",
    ",'2017-06-26','2017-08-07','2017-09-30','2017-10-02','2017-10-19','2018-02-24','2018-03-13','2018-03-28','2018-04-05','2018-04-09','2018-04-14','2018-05-10','2018-06-25',\n",
    "'2018-06-26','2018-08-07','2018-09-30','2018-10-02','2018-10-19','2019-02-24','2019-03-13','2019-03-28','2019-04-05','2019-04-09','2019-04-14','2019-05-10','2019-06-25',\n",
    "'2019-06-26','2019-08-07','2019-09-30','2019-10-02','2019-10-19']\n",
    "\n",
    "for date, name in sorted(ind_holiday.items()):\n",
    "    print(str(date),name)\n",
    "    hol.append(str(date))\n",
    "hol"
   ]
  },
  {
   "cell_type": "code",
   "execution_count": 6,
   "metadata": {},
   "outputs": [],
   "source": [
    "def mean_absolute_percentage_error(y_true,y_pred):\n",
    "    y_true,y_pred = np.array(y_true), np.array(y_pred)\n",
    "    return np.mean(np.abs((y_true - y_pred)/y_true))*100"
   ]
  },
  {
   "cell_type": "code",
   "execution_count": 7,
   "metadata": {},
   "outputs": [
    {
     "name": "stdout",
     "output_type": "stream",
     "text": [
      "<class 'pandas.core.frame.DataFrame'>\n",
      "RangeIndex: 80402 entries, 0 to 80401\n",
      "Data columns (total 6 columns):\n",
      "application_date    80402 non-null object\n",
      "segment             80402 non-null int64\n",
      "branch_id           66898 non-null float64\n",
      "state               80402 non-null object\n",
      "zone                66898 non-null object\n",
      "case_count          80402 non-null float64\n",
      "dtypes: float64(2), int64(1), object(3)\n",
      "memory usage: 3.7+ MB\n"
     ]
    }
   ],
   "source": [
    "train.info()"
   ]
  },
  {
   "cell_type": "code",
   "execution_count": 8,
   "metadata": {},
   "outputs": [
    {
     "data": {
      "text/plain": [
       "application_date     844\n",
       "segment                2\n",
       "branch_id             83\n",
       "state                 20\n",
       "zone                   5\n",
       "case_count          3245\n",
       "dtype: int64"
      ]
     },
     "execution_count": 8,
     "metadata": {},
     "output_type": "execute_result"
    }
   ],
   "source": [
    "train.nunique()"
   ]
  },
  {
   "cell_type": "code",
   "execution_count": 9,
   "metadata": {},
   "outputs": [
    {
     "data": {
      "text/plain": [
       "1    66898\n",
       "2    13504\n",
       "Name: segment, dtype: int64"
      ]
     },
     "execution_count": 9,
     "metadata": {},
     "output_type": "execute_result"
    }
   ],
   "source": [
    "train['segment'].value_counts()"
   ]
  },
  {
   "cell_type": "code",
   "execution_count": 10,
   "metadata": {},
   "outputs": [],
   "source": [
    "train['application_date'] = pd.to_datetime(train['application_date'],format='%Y-%m-%d')\n",
    "test['application_date'] = pd.to_datetime(test['application_date'],format='%Y-%m-%d')"
   ]
  },
  {
   "cell_type": "code",
   "execution_count": 11,
   "metadata": {},
   "outputs": [],
   "source": [
    "train1_seg=train[train['segment']== 1].groupby(['application_date']).sum().reset_index()[['application_date','case_count']].sort_values('application_date')\n",
    "train2_seg=train[train['segment']== 2].groupby(['application_date']).sum().reset_index()[['application_date','case_count']].sort_values('application_date')"
   ]
  },
  {
   "cell_type": "code",
   "execution_count": 12,
   "metadata": {},
   "outputs": [
    {
     "data": {
      "text/html": [
       "<div>\n",
       "<style scoped>\n",
       "    .dataframe tbody tr th:only-of-type {\n",
       "        vertical-align: middle;\n",
       "    }\n",
       "\n",
       "    .dataframe tbody tr th {\n",
       "        vertical-align: top;\n",
       "    }\n",
       "\n",
       "    .dataframe thead th {\n",
       "        text-align: right;\n",
       "    }\n",
       "</style>\n",
       "<table border=\"1\" class=\"dataframe\">\n",
       "  <thead>\n",
       "    <tr style=\"text-align: right;\">\n",
       "      <th></th>\n",
       "      <th>application_date</th>\n",
       "      <th>case_count</th>\n",
       "    </tr>\n",
       "  </thead>\n",
       "  <tbody>\n",
       "    <tr>\n",
       "      <td>0</td>\n",
       "      <td>2017-04-01</td>\n",
       "      <td>299.0</td>\n",
       "    </tr>\n",
       "    <tr>\n",
       "      <td>1</td>\n",
       "      <td>2017-04-03</td>\n",
       "      <td>42.0</td>\n",
       "    </tr>\n",
       "    <tr>\n",
       "      <td>2</td>\n",
       "      <td>2017-04-04</td>\n",
       "      <td>23.0</td>\n",
       "    </tr>\n",
       "    <tr>\n",
       "      <td>3</td>\n",
       "      <td>2017-04-05</td>\n",
       "      <td>1530.0</td>\n",
       "    </tr>\n",
       "    <tr>\n",
       "      <td>4</td>\n",
       "      <td>2017-04-07</td>\n",
       "      <td>1341.0</td>\n",
       "    </tr>\n",
       "  </tbody>\n",
       "</table>\n",
       "</div>"
      ],
      "text/plain": [
       "  application_date  case_count\n",
       "0       2017-04-01       299.0\n",
       "1       2017-04-03        42.0\n",
       "2       2017-04-04        23.0\n",
       "3       2017-04-05      1530.0\n",
       "4       2017-04-07      1341.0"
      ]
     },
     "execution_count": 12,
     "metadata": {},
     "output_type": "execute_result"
    }
   ],
   "source": [
    "train1_seg.head()"
   ]
  },
  {
   "cell_type": "code",
   "execution_count": 24,
   "metadata": {},
   "outputs": [],
   "source": [
    "def create_date_features(df):\n",
    "    df['date']=df.application_date\n",
    "    df['Year'] = pd.to_datetime(df['application_date']).dt.year\n",
    "    df['Month'] = pd.to_datetime(df['application_date']).dt.month\n",
    "    df['Day'] = pd.to_datetime(df['application_date']).dt.day\n",
    "    df['Dayofweek'] = pd.to_datetime(df['application_date']).dt.dayofweek\n",
    "    df['DayOfyear'] = pd.to_datetime(df['application_date']).dt.dayofyear\n",
    "    df['Week'] = pd.to_datetime(df['application_date']).dt.week \n",
    "    df['Quarter'] = pd.to_datetime(df['application_date']).dt.quarter  \n",
    "    df['Is_month_start'] = pd.to_datetime(df['application_date']).dt.is_month_start \n",
    "    df['Is_month_end'] = pd.to_datetime(df['application_date']).dt.is_month_end \n",
    "    df['Is_quarter_start'] = pd.to_datetime(df['application_date']).dt.is_quarter_start\n",
    "    df['Is_quarter_end'] = pd.to_datetime(df['application_date']).dt.is_quarter_end \n",
    "    df['Is_year_start'] = pd.to_datetime(df['application_date']).dt.is_year_start \n",
    "    df['Is_year_end'] = pd.to_datetime(df['application_date']).dt.is_year_end\n",
    "    df['Semester'] = np.where(df['Quarter'].isin([1,2]),1,2)\n",
    "    \n",
    "\n",
    "    x=df.drop(['date','application_date'],axis=1)\n",
    "    \n",
    "    return x"
   ]
  },
  {
   "cell_type": "code",
   "execution_count": 25,
   "metadata": {},
   "outputs": [],
   "source": [
    "train1_s1= create_date_features(train1_seg)\n",
    "train2_s2= create_date_features(train2_seg)\n"
   ]
  },
  {
   "cell_type": "code",
   "execution_count": 26,
   "metadata": {},
   "outputs": [
    {
     "data": {
      "text/html": [
       "<div>\n",
       "<style scoped>\n",
       "    .dataframe tbody tr th:only-of-type {\n",
       "        vertical-align: middle;\n",
       "    }\n",
       "\n",
       "    .dataframe tbody tr th {\n",
       "        vertical-align: top;\n",
       "    }\n",
       "\n",
       "    .dataframe thead th {\n",
       "        text-align: right;\n",
       "    }\n",
       "</style>\n",
       "<table border=\"1\" class=\"dataframe\">\n",
       "  <thead>\n",
       "    <tr style=\"text-align: right;\">\n",
       "      <th></th>\n",
       "      <th>case_count</th>\n",
       "      <th>Year</th>\n",
       "      <th>Month</th>\n",
       "      <th>Day</th>\n",
       "      <th>Dayofweek</th>\n",
       "      <th>DayOfyear</th>\n",
       "      <th>Week</th>\n",
       "      <th>Quarter</th>\n",
       "      <th>Is_month_start</th>\n",
       "      <th>Is_month_end</th>\n",
       "      <th>Is_quarter_start</th>\n",
       "      <th>Is_quarter_end</th>\n",
       "      <th>Is_year_start</th>\n",
       "      <th>Is_year_end</th>\n",
       "      <th>Semester</th>\n",
       "    </tr>\n",
       "  </thead>\n",
       "  <tbody>\n",
       "    <tr>\n",
       "      <td>0</td>\n",
       "      <td>299.0</td>\n",
       "      <td>2017</td>\n",
       "      <td>4</td>\n",
       "      <td>1</td>\n",
       "      <td>5</td>\n",
       "      <td>91</td>\n",
       "      <td>13</td>\n",
       "      <td>2</td>\n",
       "      <td>True</td>\n",
       "      <td>False</td>\n",
       "      <td>True</td>\n",
       "      <td>False</td>\n",
       "      <td>False</td>\n",
       "      <td>False</td>\n",
       "      <td>1</td>\n",
       "    </tr>\n",
       "    <tr>\n",
       "      <td>1</td>\n",
       "      <td>42.0</td>\n",
       "      <td>2017</td>\n",
       "      <td>4</td>\n",
       "      <td>3</td>\n",
       "      <td>0</td>\n",
       "      <td>93</td>\n",
       "      <td>14</td>\n",
       "      <td>2</td>\n",
       "      <td>False</td>\n",
       "      <td>False</td>\n",
       "      <td>False</td>\n",
       "      <td>False</td>\n",
       "      <td>False</td>\n",
       "      <td>False</td>\n",
       "      <td>1</td>\n",
       "    </tr>\n",
       "    <tr>\n",
       "      <td>2</td>\n",
       "      <td>23.0</td>\n",
       "      <td>2017</td>\n",
       "      <td>4</td>\n",
       "      <td>4</td>\n",
       "      <td>1</td>\n",
       "      <td>94</td>\n",
       "      <td>14</td>\n",
       "      <td>2</td>\n",
       "      <td>False</td>\n",
       "      <td>False</td>\n",
       "      <td>False</td>\n",
       "      <td>False</td>\n",
       "      <td>False</td>\n",
       "      <td>False</td>\n",
       "      <td>1</td>\n",
       "    </tr>\n",
       "    <tr>\n",
       "      <td>3</td>\n",
       "      <td>1530.0</td>\n",
       "      <td>2017</td>\n",
       "      <td>4</td>\n",
       "      <td>5</td>\n",
       "      <td>2</td>\n",
       "      <td>95</td>\n",
       "      <td>14</td>\n",
       "      <td>2</td>\n",
       "      <td>False</td>\n",
       "      <td>False</td>\n",
       "      <td>False</td>\n",
       "      <td>False</td>\n",
       "      <td>False</td>\n",
       "      <td>False</td>\n",
       "      <td>1</td>\n",
       "    </tr>\n",
       "    <tr>\n",
       "      <td>4</td>\n",
       "      <td>1341.0</td>\n",
       "      <td>2017</td>\n",
       "      <td>4</td>\n",
       "      <td>7</td>\n",
       "      <td>4</td>\n",
       "      <td>97</td>\n",
       "      <td>14</td>\n",
       "      <td>2</td>\n",
       "      <td>False</td>\n",
       "      <td>False</td>\n",
       "      <td>False</td>\n",
       "      <td>False</td>\n",
       "      <td>False</td>\n",
       "      <td>False</td>\n",
       "      <td>1</td>\n",
       "    </tr>\n",
       "    <tr>\n",
       "      <td>...</td>\n",
       "      <td>...</td>\n",
       "      <td>...</td>\n",
       "      <td>...</td>\n",
       "      <td>...</td>\n",
       "      <td>...</td>\n",
       "      <td>...</td>\n",
       "      <td>...</td>\n",
       "      <td>...</td>\n",
       "      <td>...</td>\n",
       "      <td>...</td>\n",
       "      <td>...</td>\n",
       "      <td>...</td>\n",
       "      <td>...</td>\n",
       "      <td>...</td>\n",
       "      <td>...</td>\n",
       "    </tr>\n",
       "    <tr>\n",
       "      <td>801</td>\n",
       "      <td>3650.0</td>\n",
       "      <td>2019</td>\n",
       "      <td>7</td>\n",
       "      <td>1</td>\n",
       "      <td>0</td>\n",
       "      <td>182</td>\n",
       "      <td>27</td>\n",
       "      <td>3</td>\n",
       "      <td>True</td>\n",
       "      <td>False</td>\n",
       "      <td>True</td>\n",
       "      <td>False</td>\n",
       "      <td>False</td>\n",
       "      <td>False</td>\n",
       "      <td>2</td>\n",
       "    </tr>\n",
       "    <tr>\n",
       "      <td>802</td>\n",
       "      <td>3212.0</td>\n",
       "      <td>2019</td>\n",
       "      <td>7</td>\n",
       "      <td>2</td>\n",
       "      <td>1</td>\n",
       "      <td>183</td>\n",
       "      <td>27</td>\n",
       "      <td>3</td>\n",
       "      <td>False</td>\n",
       "      <td>False</td>\n",
       "      <td>False</td>\n",
       "      <td>False</td>\n",
       "      <td>False</td>\n",
       "      <td>False</td>\n",
       "      <td>2</td>\n",
       "    </tr>\n",
       "    <tr>\n",
       "      <td>803</td>\n",
       "      <td>3824.0</td>\n",
       "      <td>2019</td>\n",
       "      <td>7</td>\n",
       "      <td>3</td>\n",
       "      <td>2</td>\n",
       "      <td>184</td>\n",
       "      <td>27</td>\n",
       "      <td>3</td>\n",
       "      <td>False</td>\n",
       "      <td>False</td>\n",
       "      <td>False</td>\n",
       "      <td>False</td>\n",
       "      <td>False</td>\n",
       "      <td>False</td>\n",
       "      <td>2</td>\n",
       "    </tr>\n",
       "    <tr>\n",
       "      <td>804</td>\n",
       "      <td>4240.0</td>\n",
       "      <td>2019</td>\n",
       "      <td>7</td>\n",
       "      <td>4</td>\n",
       "      <td>3</td>\n",
       "      <td>185</td>\n",
       "      <td>27</td>\n",
       "      <td>3</td>\n",
       "      <td>False</td>\n",
       "      <td>False</td>\n",
       "      <td>False</td>\n",
       "      <td>False</td>\n",
       "      <td>False</td>\n",
       "      <td>False</td>\n",
       "      <td>2</td>\n",
       "    </tr>\n",
       "    <tr>\n",
       "      <td>805</td>\n",
       "      <td>13.0</td>\n",
       "      <td>2019</td>\n",
       "      <td>7</td>\n",
       "      <td>5</td>\n",
       "      <td>4</td>\n",
       "      <td>186</td>\n",
       "      <td>27</td>\n",
       "      <td>3</td>\n",
       "      <td>False</td>\n",
       "      <td>False</td>\n",
       "      <td>False</td>\n",
       "      <td>False</td>\n",
       "      <td>False</td>\n",
       "      <td>False</td>\n",
       "      <td>2</td>\n",
       "    </tr>\n",
       "  </tbody>\n",
       "</table>\n",
       "<p>806 rows × 15 columns</p>\n",
       "</div>"
      ],
      "text/plain": [
       "     case_count  Year  Month  Day  Dayofweek  DayOfyear  Week  Quarter  \\\n",
       "0         299.0  2017      4    1          5         91    13        2   \n",
       "1          42.0  2017      4    3          0         93    14        2   \n",
       "2          23.0  2017      4    4          1         94    14        2   \n",
       "3        1530.0  2017      4    5          2         95    14        2   \n",
       "4        1341.0  2017      4    7          4         97    14        2   \n",
       "..          ...   ...    ...  ...        ...        ...   ...      ...   \n",
       "801      3650.0  2019      7    1          0        182    27        3   \n",
       "802      3212.0  2019      7    2          1        183    27        3   \n",
       "803      3824.0  2019      7    3          2        184    27        3   \n",
       "804      4240.0  2019      7    4          3        185    27        3   \n",
       "805        13.0  2019      7    5          4        186    27        3   \n",
       "\n",
       "     Is_month_start  Is_month_end  Is_quarter_start  Is_quarter_end  \\\n",
       "0              True         False              True           False   \n",
       "1             False         False             False           False   \n",
       "2             False         False             False           False   \n",
       "3             False         False             False           False   \n",
       "4             False         False             False           False   \n",
       "..              ...           ...               ...             ...   \n",
       "801            True         False              True           False   \n",
       "802           False         False             False           False   \n",
       "803           False         False             False           False   \n",
       "804           False         False             False           False   \n",
       "805           False         False             False           False   \n",
       "\n",
       "     Is_year_start  Is_year_end  Semester  \n",
       "0            False        False         1  \n",
       "1            False        False         1  \n",
       "2            False        False         1  \n",
       "3            False        False         1  \n",
       "4            False        False         1  \n",
       "..             ...          ...       ...  \n",
       "801          False        False         2  \n",
       "802          False        False         2  \n",
       "803          False        False         2  \n",
       "804          False        False         2  \n",
       "805          False        False         2  \n",
       "\n",
       "[806 rows x 15 columns]"
      ]
     },
     "execution_count": 26,
     "metadata": {},
     "output_type": "execute_result"
    }
   ],
   "source": [
    "train1_s1"
   ]
  },
  {
   "cell_type": "code",
   "execution_count": 27,
   "metadata": {},
   "outputs": [
    {
     "data": {
      "text/plain": [
       "count      806.000000\n",
       "mean      2714.689826\n",
       "std       2042.418090\n",
       "min          1.000000\n",
       "25%       1633.250000\n",
       "50%       2602.000000\n",
       "75%       3333.000000\n",
       "max      21885.000000\n",
       "Name: case_count, dtype: float64"
      ]
     },
     "execution_count": 27,
     "metadata": {},
     "output_type": "execute_result"
    }
   ],
   "source": [
    "train1_s1.case_count.describe()"
   ]
  },
  {
   "cell_type": "code",
   "execution_count": 28,
   "metadata": {},
   "outputs": [],
   "source": [
    "train1_s1 = train1_s1[train1_s1['case_count'] > 15].reset_index(drop=True)\n",
    "train1_s1 = train1_s1[train1_s1['case_count'] <= 8000].reset_index(drop=True)\n",
    "train2_s2 = train2_s2[(train2_s2['case_count'] < 40000)].reset_index(drop=True)"
   ]
  },
  {
   "cell_type": "code",
   "execution_count": 29,
   "metadata": {},
   "outputs": [
    {
     "data": {
      "text/plain": [
       "((780, 15), (843, 15))"
      ]
     },
     "execution_count": 29,
     "metadata": {},
     "output_type": "execute_result"
    }
   ],
   "source": [
    "train1_s1.shape,train2_s2.shape"
   ]
  },
  {
   "cell_type": "markdown",
   "metadata": {},
   "source": [
    "####   Train test split\n",
    "####   Business Segment 1"
   ]
  },
  {
   "cell_type": "markdown",
   "metadata": {},
   "source": [
    "#### Random Forest Regressor"
   ]
  },
  {
   "cell_type": "code",
   "execution_count": 30,
   "metadata": {},
   "outputs": [],
   "source": [
    "from sklearn.model_selection import train_test_split\n",
    "X= train1_s1.drop(labels=['case_count'],axis=1)\n",
    "y= train1_s1['case_count'].values\n",
    "\n",
    "X_train,X_test,y_train,y_test=train_test_split(X,y,test_size=0.25)"
   ]
  },
  {
   "cell_type": "code",
   "execution_count": 31,
   "metadata": {},
   "outputs": [
    {
     "data": {
      "text/plain": [
       "((585, 14), (585,), (195, 14), (195,))"
      ]
     },
     "execution_count": 31,
     "metadata": {},
     "output_type": "execute_result"
    }
   ],
   "source": [
    "X_train.shape,y_train.shape,X_test.shape,y_test.shape"
   ]
  },
  {
   "cell_type": "code",
   "execution_count": 32,
   "metadata": {},
   "outputs": [],
   "source": [
    "from sklearn.ensemble import BaggingRegressor,RandomForestRegressor\n",
    "rf= RandomForestRegressor(random_state=0)"
   ]
  },
  {
   "cell_type": "code",
   "execution_count": 33,
   "metadata": {},
   "outputs": [
    {
     "name": "stdout",
     "output_type": "stream",
     "text": [
      "MAPE: 99.02856859207199\n"
     ]
    }
   ],
   "source": [
    "rf.fit(X_train,y_train)\n",
    "y_pred=rf.predict(X_test)\n",
    "print('MAPE:', mean_absolute_percentage_error(y_test,y_pred))"
   ]
  },
  {
   "cell_type": "markdown",
   "metadata": {},
   "source": [
    "####   Business Segment 2"
   ]
  },
  {
   "cell_type": "code",
   "execution_count": 34,
   "metadata": {},
   "outputs": [
    {
     "name": "stdout",
     "output_type": "stream",
     "text": [
      "MAPE: 33.84253191930627\n"
     ]
    }
   ],
   "source": [
    "from sklearn.model_selection import train_test_split\n",
    "X= train2_s2.drop(labels=['case_count'],axis=1)\n",
    "y= train2_s2['case_count'].values\n",
    "\n",
    "X_train,X_test,y_train,y_test=train_test_split(X,y,test_size=0.25)\n",
    "X_train.shape,y_train.shape,X_test.shape,y_test.shape\n",
    "from sklearn.ensemble import BaggingRegressor,RandomForestRegressor\n",
    "rf= RandomForestRegressor(random_state=0)\n",
    "rf.fit(X_train,y_train)\n",
    "y_pred=rf.predict(X_test)\n",
    "print('MAPE:', mean_absolute_percentage_error(y_test,y_pred))"
   ]
  },
  {
   "cell_type": "markdown",
   "metadata": {},
   "source": [
    "#### Prediction on test"
   ]
  },
  {
   "cell_type": "code",
   "execution_count": 35,
   "metadata": {},
   "outputs": [
    {
     "data": {
      "text/html": [
       "<div>\n",
       "<style scoped>\n",
       "    .dataframe tbody tr th:only-of-type {\n",
       "        vertical-align: middle;\n",
       "    }\n",
       "\n",
       "    .dataframe tbody tr th {\n",
       "        vertical-align: top;\n",
       "    }\n",
       "\n",
       "    .dataframe thead th {\n",
       "        text-align: right;\n",
       "    }\n",
       "</style>\n",
       "<table border=\"1\" class=\"dataframe\">\n",
       "  <thead>\n",
       "    <tr style=\"text-align: right;\">\n",
       "      <th></th>\n",
       "      <th>id</th>\n",
       "      <th>application_date</th>\n",
       "      <th>segment</th>\n",
       "    </tr>\n",
       "  </thead>\n",
       "  <tbody>\n",
       "    <tr>\n",
       "      <td>0</td>\n",
       "      <td>1</td>\n",
       "      <td>2019-07-06</td>\n",
       "      <td>1</td>\n",
       "    </tr>\n",
       "    <tr>\n",
       "      <td>1</td>\n",
       "      <td>2</td>\n",
       "      <td>2019-07-07</td>\n",
       "      <td>1</td>\n",
       "    </tr>\n",
       "    <tr>\n",
       "      <td>2</td>\n",
       "      <td>3</td>\n",
       "      <td>2019-07-08</td>\n",
       "      <td>1</td>\n",
       "    </tr>\n",
       "    <tr>\n",
       "      <td>3</td>\n",
       "      <td>4</td>\n",
       "      <td>2019-07-09</td>\n",
       "      <td>1</td>\n",
       "    </tr>\n",
       "    <tr>\n",
       "      <td>4</td>\n",
       "      <td>5</td>\n",
       "      <td>2019-07-10</td>\n",
       "      <td>1</td>\n",
       "    </tr>\n",
       "  </tbody>\n",
       "</table>\n",
       "</div>"
      ],
      "text/plain": [
       "   id application_date  segment\n",
       "0   1       2019-07-06        1\n",
       "1   2       2019-07-07        1\n",
       "2   3       2019-07-08        1\n",
       "3   4       2019-07-09        1\n",
       "4   5       2019-07-10        1"
      ]
     },
     "execution_count": 35,
     "metadata": {},
     "output_type": "execute_result"
    }
   ],
   "source": [
    "test.head()"
   ]
  },
  {
   "cell_type": "code",
   "execution_count": 36,
   "metadata": {},
   "outputs": [],
   "source": [
    "test1 = test[test['segment'] == 1][['application_date']].sort_values('application_date')\n",
    "test2 = test[test['segment'] == 2][['application_date']].sort_values('application_date')"
   ]
  },
  {
   "cell_type": "code",
   "execution_count": 37,
   "metadata": {},
   "outputs": [],
   "source": [
    "test1 = create_date_features(test1)\n",
    "test2 = create_date_features(test2)"
   ]
  },
  {
   "cell_type": "code",
   "execution_count": 38,
   "metadata": {
    "scrolled": true
   },
   "outputs": [
    {
     "data": {
      "text/plain": [
       "((87, 14), (93, 14))"
      ]
     },
     "execution_count": 38,
     "metadata": {},
     "output_type": "execute_result"
    }
   ],
   "source": [
    "test1.shape,test2.shape"
   ]
  },
  {
   "cell_type": "code",
   "execution_count": 39,
   "metadata": {},
   "outputs": [],
   "source": [
    "X= train1_s1.drop(labels=['case_count'],axis=1)\n",
    "y= train1_s1['case_count'].values\n",
    "Xtest = test1"
   ]
  },
  {
   "cell_type": "code",
   "execution_count": 40,
   "metadata": {},
   "outputs": [
    {
     "name": "stdout",
     "output_type": "stream",
     "text": [
      "MAPE:  136.03094082832519\n",
      "MAPE:  51.04395194882338\n",
      "MAPE:  85.54266111447645\n",
      "MAPE:  365.1379441742534\n",
      "MAPE:  73.14484345384611\n",
      "MAPE:  85.65483694127006\n",
      "MAPE:  70.55313000875516\n",
      "MAPE:  83.10946100681332\n",
      "MAPE:  20.10661096949472\n",
      "MAPE:  131.68965696218788\n",
      "MAPE:  71.30920867720121\n",
      "MAPE:  31.558106023668586\n",
      "MAPE:  54.07107014996394\n",
      "MAPE:  221.90457333586178\n",
      "MAPE:  124.7929550727521\n"
     ]
    }
   ],
   "source": [
    "#Business Segment 1\n",
    "\n",
    "from sklearn.model_selection import KFold\n",
    "from sklearn.ensemble import BaggingRegressor, RandomForestRegressor\n",
    "\n",
    "rs = 101\n",
    "errlgb = []\n",
    "y_pred_totlgb = []\n",
    "\n",
    "fold = KFold(n_splits=15, shuffle=True, random_state=rs)\n",
    "\n",
    "for train_index, test_index in fold.split(X):\n",
    "    X_train, X_test = X.loc[train_index], X.loc[test_index]\n",
    "    y_train, y_test = y[train_index], y[test_index]\n",
    "    #br = RandomForestRegressor(random_state=rs)\n",
    "    br = BaggingRegressor(n_estimators=10, random_state=1)\n",
    "    br.fit(X_train, y_train)\n",
    "    y_pred = br.predict(X_test)\n",
    "    print(\"MAPE: \", mean_absolute_percentage_error(y_test, y_pred))\n",
    "    errlgb.append(mean_absolute_percentage_error(y_test, y_pred))\n",
    "    p = br.predict(Xtest)    \n",
    "    y_pred_totlgb.append(p)"
   ]
  },
  {
   "cell_type": "code",
   "execution_count": 41,
   "metadata": {},
   "outputs": [
    {
     "data": {
      "text/plain": [
       "107.04333004451291"
      ]
     },
     "execution_count": 41,
     "metadata": {},
     "output_type": "execute_result"
    }
   ],
   "source": [
    "np.mean(errlgb)"
   ]
  },
  {
   "cell_type": "code",
   "execution_count": 42,
   "metadata": {},
   "outputs": [
    {
     "data": {
      "text/html": [
       "<div>\n",
       "<style scoped>\n",
       "    .dataframe tbody tr th:only-of-type {\n",
       "        vertical-align: middle;\n",
       "    }\n",
       "\n",
       "    .dataframe tbody tr th {\n",
       "        vertical-align: top;\n",
       "    }\n",
       "\n",
       "    .dataframe thead th {\n",
       "        text-align: right;\n",
       "    }\n",
       "</style>\n",
       "<table border=\"1\" class=\"dataframe\">\n",
       "  <thead>\n",
       "    <tr style=\"text-align: right;\">\n",
       "      <th></th>\n",
       "      <th>Year</th>\n",
       "      <th>Month</th>\n",
       "      <th>Day</th>\n",
       "      <th>Dayofweek</th>\n",
       "      <th>DayOfyear</th>\n",
       "      <th>Week</th>\n",
       "      <th>Quarter</th>\n",
       "      <th>Is_month_start</th>\n",
       "      <th>Is_month_end</th>\n",
       "      <th>Is_quarter_start</th>\n",
       "      <th>Is_quarter_end</th>\n",
       "      <th>Is_year_start</th>\n",
       "      <th>Is_year_end</th>\n",
       "      <th>Semester</th>\n",
       "      <th>case_count</th>\n",
       "    </tr>\n",
       "  </thead>\n",
       "  <tbody>\n",
       "    <tr>\n",
       "      <td>0</td>\n",
       "      <td>2019</td>\n",
       "      <td>7</td>\n",
       "      <td>6</td>\n",
       "      <td>5</td>\n",
       "      <td>187</td>\n",
       "      <td>27</td>\n",
       "      <td>3</td>\n",
       "      <td>False</td>\n",
       "      <td>False</td>\n",
       "      <td>False</td>\n",
       "      <td>False</td>\n",
       "      <td>False</td>\n",
       "      <td>False</td>\n",
       "      <td>2</td>\n",
       "      <td>2870.553333</td>\n",
       "    </tr>\n",
       "    <tr>\n",
       "      <td>1</td>\n",
       "      <td>2019</td>\n",
       "      <td>7</td>\n",
       "      <td>7</td>\n",
       "      <td>6</td>\n",
       "      <td>188</td>\n",
       "      <td>27</td>\n",
       "      <td>3</td>\n",
       "      <td>False</td>\n",
       "      <td>False</td>\n",
       "      <td>False</td>\n",
       "      <td>False</td>\n",
       "      <td>False</td>\n",
       "      <td>False</td>\n",
       "      <td>2</td>\n",
       "      <td>1746.013333</td>\n",
       "    </tr>\n",
       "    <tr>\n",
       "      <td>2</td>\n",
       "      <td>2019</td>\n",
       "      <td>7</td>\n",
       "      <td>8</td>\n",
       "      <td>0</td>\n",
       "      <td>189</td>\n",
       "      <td>28</td>\n",
       "      <td>3</td>\n",
       "      <td>False</td>\n",
       "      <td>False</td>\n",
       "      <td>False</td>\n",
       "      <td>False</td>\n",
       "      <td>False</td>\n",
       "      <td>False</td>\n",
       "      <td>2</td>\n",
       "      <td>4109.833333</td>\n",
       "    </tr>\n",
       "    <tr>\n",
       "      <td>3</td>\n",
       "      <td>2019</td>\n",
       "      <td>7</td>\n",
       "      <td>9</td>\n",
       "      <td>1</td>\n",
       "      <td>190</td>\n",
       "      <td>28</td>\n",
       "      <td>3</td>\n",
       "      <td>False</td>\n",
       "      <td>False</td>\n",
       "      <td>False</td>\n",
       "      <td>False</td>\n",
       "      <td>False</td>\n",
       "      <td>False</td>\n",
       "      <td>2</td>\n",
       "      <td>3505.406667</td>\n",
       "    </tr>\n",
       "    <tr>\n",
       "      <td>4</td>\n",
       "      <td>2019</td>\n",
       "      <td>7</td>\n",
       "      <td>10</td>\n",
       "      <td>2</td>\n",
       "      <td>191</td>\n",
       "      <td>28</td>\n",
       "      <td>3</td>\n",
       "      <td>False</td>\n",
       "      <td>False</td>\n",
       "      <td>False</td>\n",
       "      <td>False</td>\n",
       "      <td>False</td>\n",
       "      <td>False</td>\n",
       "      <td>2</td>\n",
       "      <td>3673.040000</td>\n",
       "    </tr>\n",
       "  </tbody>\n",
       "</table>\n",
       "</div>"
      ],
      "text/plain": [
       "   Year  Month  Day  Dayofweek  DayOfyear  Week  Quarter  Is_month_start  \\\n",
       "0  2019      7    6          5        187    27        3           False   \n",
       "1  2019      7    7          6        188    27        3           False   \n",
       "2  2019      7    8          0        189    28        3           False   \n",
       "3  2019      7    9          1        190    28        3           False   \n",
       "4  2019      7   10          2        191    28        3           False   \n",
       "\n",
       "   Is_month_end  Is_quarter_start  Is_quarter_end  Is_year_start  Is_year_end  \\\n",
       "0         False             False           False          False        False   \n",
       "1         False             False           False          False        False   \n",
       "2         False             False           False          False        False   \n",
       "3         False             False           False          False        False   \n",
       "4         False             False           False          False        False   \n",
       "\n",
       "   Semester   case_count  \n",
       "0         2  2870.553333  \n",
       "1         2  1746.013333  \n",
       "2         2  4109.833333  \n",
       "3         2  3505.406667  \n",
       "4         2  3673.040000  "
      ]
     },
     "execution_count": 42,
     "metadata": {},
     "output_type": "execute_result"
    }
   ],
   "source": [
    "y_pred1 = np.mean(y_pred_totlgb,0)\n",
    "test1['case_count'] = y_pred1\n",
    "test1.head()"
   ]
  },
  {
   "cell_type": "code",
   "execution_count": 43,
   "metadata": {},
   "outputs": [],
   "source": [
    "test1.drop('case_count', axis=1, inplace=True)"
   ]
  },
  {
   "cell_type": "code",
   "execution_count": 44,
   "metadata": {},
   "outputs": [],
   "source": [
    "##Business Segment 2\n",
    "X= train2_s2.drop(labels=['case_count'],axis=1)\n",
    "y= train2_s2['case_count'].values\n",
    "Xtest = test2\n"
   ]
  },
  {
   "cell_type": "code",
   "execution_count": 45,
   "metadata": {},
   "outputs": [
    {
     "name": "stdout",
     "output_type": "stream",
     "text": [
      "MAPE:  24.56080232190273\n",
      "MAPE:  22.46869038531167\n",
      "MAPE:  91.297017550397\n",
      "MAPE:  18.50890170944098\n",
      "MAPE:  27.08184654754199\n",
      "MAPE:  35.94465115498145\n",
      "MAPE:  19.112150665250525\n",
      "MAPE:  20.330024644634577\n",
      "MAPE:  19.756747984516547\n",
      "MAPE:  16.924992014578823\n",
      "MAPE:  32.398925587244506\n",
      "MAPE:  23.208050249636543\n",
      "MAPE:  19.96766336001579\n",
      "MAPE:  19.636154570816654\n",
      "MAPE:  23.897265376083755\n"
     ]
    }
   ],
   "source": [
    "from sklearn.model_selection import KFold\n",
    "from sklearn.ensemble import BaggingRegressor, RandomForestRegressor\n",
    "\n",
    "rs = 101\n",
    "errlgb = []\n",
    "y_pred_totlgb = []\n",
    "\n",
    "fold = KFold(n_splits=15, shuffle=True, random_state=rs)\n",
    "\n",
    "for train_index, test_index in fold.split(X):\n",
    "    X_train, X_test = X.loc[train_index], X.loc[test_index]\n",
    "    y_train, y_test = y[train_index], y[test_index]\n",
    "    #br = RandomForestRegressor(random_state=rs)\n",
    "    br = BaggingRegressor(n_estimators=10, random_state=1)\n",
    "    br.fit(X_train, y_train)\n",
    "    y_pred = br.predict(X_test)\n",
    "    print(\"MAPE: \", mean_absolute_percentage_error(y_test, y_pred))\n",
    "    errlgb.append(mean_absolute_percentage_error(y_test, y_pred))\n",
    "    p = br.predict(Xtest)    \n",
    "    y_pred_totlgb.append(p)"
   ]
  },
  {
   "cell_type": "code",
   "execution_count": 46,
   "metadata": {},
   "outputs": [
    {
     "data": {
      "text/plain": [
       "27.672925608156902"
      ]
     },
     "execution_count": 46,
     "metadata": {},
     "output_type": "execute_result"
    }
   ],
   "source": [
    "np.mean(errlgb)"
   ]
  },
  {
   "cell_type": "code",
   "execution_count": 47,
   "metadata": {},
   "outputs": [
    {
     "data": {
      "text/html": [
       "<div>\n",
       "<style scoped>\n",
       "    .dataframe tbody tr th:only-of-type {\n",
       "        vertical-align: middle;\n",
       "    }\n",
       "\n",
       "    .dataframe tbody tr th {\n",
       "        vertical-align: top;\n",
       "    }\n",
       "\n",
       "    .dataframe thead th {\n",
       "        text-align: right;\n",
       "    }\n",
       "</style>\n",
       "<table border=\"1\" class=\"dataframe\">\n",
       "  <thead>\n",
       "    <tr style=\"text-align: right;\">\n",
       "      <th></th>\n",
       "      <th>Year</th>\n",
       "      <th>Month</th>\n",
       "      <th>Day</th>\n",
       "      <th>Dayofweek</th>\n",
       "      <th>DayOfyear</th>\n",
       "      <th>Week</th>\n",
       "      <th>Quarter</th>\n",
       "      <th>Is_month_start</th>\n",
       "      <th>Is_month_end</th>\n",
       "      <th>Is_quarter_start</th>\n",
       "      <th>Is_quarter_end</th>\n",
       "      <th>Is_year_start</th>\n",
       "      <th>Is_year_end</th>\n",
       "      <th>Semester</th>\n",
       "      <th>case_count</th>\n",
       "    </tr>\n",
       "  </thead>\n",
       "  <tbody>\n",
       "    <tr>\n",
       "      <td>87</td>\n",
       "      <td>2019</td>\n",
       "      <td>7</td>\n",
       "      <td>24</td>\n",
       "      <td>2</td>\n",
       "      <td>205</td>\n",
       "      <td>30</td>\n",
       "      <td>3</td>\n",
       "      <td>False</td>\n",
       "      <td>False</td>\n",
       "      <td>False</td>\n",
       "      <td>False</td>\n",
       "      <td>False</td>\n",
       "      <td>False</td>\n",
       "      <td>2</td>\n",
       "      <td>27311.500000</td>\n",
       "    </tr>\n",
       "    <tr>\n",
       "      <td>88</td>\n",
       "      <td>2019</td>\n",
       "      <td>7</td>\n",
       "      <td>25</td>\n",
       "      <td>3</td>\n",
       "      <td>206</td>\n",
       "      <td>30</td>\n",
       "      <td>3</td>\n",
       "      <td>False</td>\n",
       "      <td>False</td>\n",
       "      <td>False</td>\n",
       "      <td>False</td>\n",
       "      <td>False</td>\n",
       "      <td>False</td>\n",
       "      <td>2</td>\n",
       "      <td>26199.973333</td>\n",
       "    </tr>\n",
       "    <tr>\n",
       "      <td>89</td>\n",
       "      <td>2019</td>\n",
       "      <td>7</td>\n",
       "      <td>26</td>\n",
       "      <td>4</td>\n",
       "      <td>207</td>\n",
       "      <td>30</td>\n",
       "      <td>3</td>\n",
       "      <td>False</td>\n",
       "      <td>False</td>\n",
       "      <td>False</td>\n",
       "      <td>False</td>\n",
       "      <td>False</td>\n",
       "      <td>False</td>\n",
       "      <td>2</td>\n",
       "      <td>25162.266667</td>\n",
       "    </tr>\n",
       "    <tr>\n",
       "      <td>90</td>\n",
       "      <td>2019</td>\n",
       "      <td>7</td>\n",
       "      <td>27</td>\n",
       "      <td>5</td>\n",
       "      <td>208</td>\n",
       "      <td>30</td>\n",
       "      <td>3</td>\n",
       "      <td>False</td>\n",
       "      <td>False</td>\n",
       "      <td>False</td>\n",
       "      <td>False</td>\n",
       "      <td>False</td>\n",
       "      <td>False</td>\n",
       "      <td>2</td>\n",
       "      <td>22936.573333</td>\n",
       "    </tr>\n",
       "    <tr>\n",
       "      <td>91</td>\n",
       "      <td>2019</td>\n",
       "      <td>7</td>\n",
       "      <td>28</td>\n",
       "      <td>6</td>\n",
       "      <td>209</td>\n",
       "      <td>30</td>\n",
       "      <td>3</td>\n",
       "      <td>False</td>\n",
       "      <td>False</td>\n",
       "      <td>False</td>\n",
       "      <td>False</td>\n",
       "      <td>False</td>\n",
       "      <td>False</td>\n",
       "      <td>2</td>\n",
       "      <td>16172.053333</td>\n",
       "    </tr>\n",
       "  </tbody>\n",
       "</table>\n",
       "</div>"
      ],
      "text/plain": [
       "    Year  Month  Day  Dayofweek  DayOfyear  Week  Quarter  Is_month_start  \\\n",
       "87  2019      7   24          2        205    30        3           False   \n",
       "88  2019      7   25          3        206    30        3           False   \n",
       "89  2019      7   26          4        207    30        3           False   \n",
       "90  2019      7   27          5        208    30        3           False   \n",
       "91  2019      7   28          6        209    30        3           False   \n",
       "\n",
       "    Is_month_end  Is_quarter_start  Is_quarter_end  Is_year_start  \\\n",
       "87         False             False           False          False   \n",
       "88         False             False           False          False   \n",
       "89         False             False           False          False   \n",
       "90         False             False           False          False   \n",
       "91         False             False           False          False   \n",
       "\n",
       "    Is_year_end  Semester    case_count  \n",
       "87        False         2  27311.500000  \n",
       "88        False         2  26199.973333  \n",
       "89        False         2  25162.266667  \n",
       "90        False         2  22936.573333  \n",
       "91        False         2  16172.053333  "
      ]
     },
     "execution_count": 47,
     "metadata": {},
     "output_type": "execute_result"
    }
   ],
   "source": [
    "y_pred2 = np.mean(y_pred_totlgb,0)\n",
    "test2['case_count'] = y_pred2\n",
    "test2.head()"
   ]
  },
  {
   "cell_type": "code",
   "execution_count": 48,
   "metadata": {},
   "outputs": [
    {
     "data": {
      "text/plain": [
       "(87, 93)"
      ]
     },
     "execution_count": 48,
     "metadata": {},
     "output_type": "execute_result"
    }
   ],
   "source": [
    "len(y_pred1), len(y_pred2)"
   ]
  },
  {
   "cell_type": "code",
   "execution_count": 49,
   "metadata": {},
   "outputs": [],
   "source": [
    "y_pred = np.concatenate((y_pred1, y_pred2))"
   ]
  },
  {
   "cell_type": "code",
   "execution_count": 50,
   "metadata": {},
   "outputs": [],
   "source": [
    "test['case_count'] = y_pred"
   ]
  },
  {
   "cell_type": "code",
   "execution_count": 51,
   "metadata": {},
   "outputs": [],
   "source": [
    "test.to_csv('Output.csv', index=False)"
   ]
  },
  {
   "cell_type": "code",
   "execution_count": 52,
   "metadata": {},
   "outputs": [
    {
     "data": {
      "text/html": [
       "<div>\n",
       "<style scoped>\n",
       "    .dataframe tbody tr th:only-of-type {\n",
       "        vertical-align: middle;\n",
       "    }\n",
       "\n",
       "    .dataframe tbody tr th {\n",
       "        vertical-align: top;\n",
       "    }\n",
       "\n",
       "    .dataframe thead th {\n",
       "        text-align: right;\n",
       "    }\n",
       "</style>\n",
       "<table border=\"1\" class=\"dataframe\">\n",
       "  <thead>\n",
       "    <tr style=\"text-align: right;\">\n",
       "      <th></th>\n",
       "      <th>id</th>\n",
       "      <th>application_date</th>\n",
       "      <th>segment</th>\n",
       "      <th>case_count</th>\n",
       "    </tr>\n",
       "  </thead>\n",
       "  <tbody>\n",
       "    <tr>\n",
       "      <td>0</td>\n",
       "      <td>1</td>\n",
       "      <td>2019-07-06</td>\n",
       "      <td>1</td>\n",
       "      <td>2870.553333</td>\n",
       "    </tr>\n",
       "    <tr>\n",
       "      <td>1</td>\n",
       "      <td>2</td>\n",
       "      <td>2019-07-07</td>\n",
       "      <td>1</td>\n",
       "      <td>1746.013333</td>\n",
       "    </tr>\n",
       "    <tr>\n",
       "      <td>2</td>\n",
       "      <td>3</td>\n",
       "      <td>2019-07-08</td>\n",
       "      <td>1</td>\n",
       "      <td>4109.833333</td>\n",
       "    </tr>\n",
       "    <tr>\n",
       "      <td>3</td>\n",
       "      <td>4</td>\n",
       "      <td>2019-07-09</td>\n",
       "      <td>1</td>\n",
       "      <td>3505.406667</td>\n",
       "    </tr>\n",
       "    <tr>\n",
       "      <td>4</td>\n",
       "      <td>5</td>\n",
       "      <td>2019-07-10</td>\n",
       "      <td>1</td>\n",
       "      <td>3673.040000</td>\n",
       "    </tr>\n",
       "  </tbody>\n",
       "</table>\n",
       "</div>"
      ],
      "text/plain": [
       "   id application_date  segment   case_count\n",
       "0   1       2019-07-06        1  2870.553333\n",
       "1   2       2019-07-07        1  1746.013333\n",
       "2   3       2019-07-08        1  4109.833333\n",
       "3   4       2019-07-09        1  3505.406667\n",
       "4   5       2019-07-10        1  3673.040000"
      ]
     },
     "execution_count": 52,
     "metadata": {},
     "output_type": "execute_result"
    }
   ],
   "source": [
    "test.head()"
   ]
  },
  {
   "cell_type": "markdown",
   "metadata": {},
   "source": [
    "#### Decision Tree Regressor\n",
    "#### segment 1"
   ]
  },
  {
   "cell_type": "code",
   "execution_count": 56,
   "metadata": {},
   "outputs": [],
   "source": [
    "from sklearn.model_selection import StratifiedKFold,train_test_split\n",
    "from sklearn.linear_model import LogisticRegression\n",
    "from sklearn.ensemble import RandomForestClassifier\n",
    "from sklearn.metrics import accuracy_score,confusion_matrix,roc_auc_score"
   ]
  },
  {
   "cell_type": "code",
   "execution_count": 60,
   "metadata": {},
   "outputs": [
    {
     "name": "stdout",
     "output_type": "stream",
     "text": [
      "MAPE: 94.22442073949192\n"
     ]
    }
   ],
   "source": [
    "from sklearn.model_selection import train_test_split\n",
    "X= train1_s1.drop(labels=['case_count'],axis=1)\n",
    "y= train1_s1['case_count'].values\n",
    "\n",
    "X_train,X_test,y_train,y_test=train_test_split(X,y,test_size=0.25)\n",
    "X_train.shape,y_train.shape,X_test.shape,y_test.shape\n",
    "from sklearn.ensemble import BaggingRegressor,RandomForestRegressor\n",
    "from sklearn.tree import DecisionTreeRegressor\n",
    "rf= DecisionTreeRegressor(random_state=1994)\n",
    "rf.fit(X_train,y_train)\n",
    "y_pred=rf.predict(X_test)\n",
    "print('MAPE:', mean_absolute_percentage_error(y_test,y_pred))"
   ]
  },
  {
   "cell_type": "code",
   "execution_count": null,
   "metadata": {},
   "outputs": [],
   "source": []
  }
 ],
 "metadata": {
  "kernelspec": {
   "display_name": "Python 3",
   "language": "python",
   "name": "python3"
  },
  "language_info": {
   "codemirror_mode": {
    "name": "ipython",
    "version": 3
   },
   "file_extension": ".py",
   "mimetype": "text/x-python",
   "name": "python",
   "nbconvert_exporter": "python",
   "pygments_lexer": "ipython3",
   "version": "3.7.4"
  }
 },
 "nbformat": 4,
 "nbformat_minor": 2
}
